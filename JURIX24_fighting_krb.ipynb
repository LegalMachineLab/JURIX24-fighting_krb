{
  "cells": [
    {
      "cell_type": "code",
      "source": [
        "ORG = ''  # openai organization\n",
        "KEY = ''  # openai key"
      ],
      "metadata": {
        "id": "sXTozgtavoFu"
      },
      "execution_count": null,
      "outputs": []
    },
    {
      "cell_type": "markdown",
      "metadata": {
        "id": "vY2S3HsopwtC"
      },
      "source": [
        "# Utils"
      ]
    },
    {
      "cell_type": "code",
      "execution_count": null,
      "metadata": {
        "id": "f7GrEQL3nFio",
        "colab": {
          "base_uri": "https://localhost:8080/",
          "height": 17
        },
        "outputId": "45102a8a-aed0-4404-dcb5-d39e1a20e10c"
      },
      "outputs": [
        {
          "output_type": "display_data",
          "data": {
            "text/plain": [
              "<IPython.core.display.HTML object>"
            ],
            "text/html": [
              "\n",
              "  <style>\n",
              "    pre {\n",
              "        white-space: pre-wrap;\n",
              "    }\n",
              "  </style>\n",
              "  "
            ]
          },
          "metadata": {}
        }
      ],
      "source": [
        "from IPython.display import HTML, display\n",
        "\n",
        "def set_css():\n",
        "  display(HTML('''\n",
        "  <style>\n",
        "    pre {\n",
        "        white-space: pre-wrap;\n",
        "    }\n",
        "  </style>\n",
        "  '''))\n",
        "\n",
        "get_ipython().events.register('pre_run_cell', set_css)"
      ]
    },
    {
      "cell_type": "code",
      "execution_count": null,
      "metadata": {
        "colab": {
          "base_uri": "https://localhost:8080/",
          "height": 399
        },
        "id": "XmdJ5CLdnHtX",
        "outputId": "cd35369c-79af-4e94-d09d-75c5920e06d0"
      },
      "outputs": [
        {
          "output_type": "display_data",
          "data": {
            "text/plain": [
              "<IPython.core.display.HTML object>"
            ],
            "text/html": [
              "\n",
              "  <style>\n",
              "    pre {\n",
              "        white-space: pre-wrap;\n",
              "    }\n",
              "  </style>\n",
              "  "
            ]
          },
          "metadata": {}
        },
        {
          "output_type": "display_data",
          "data": {
            "text/plain": [
              "<IPython.core.display.HTML object>"
            ],
            "text/html": [
              "\n",
              "  <style>\n",
              "    pre {\n",
              "        white-space: pre-wrap;\n",
              "    }\n",
              "  </style>\n",
              "  "
            ]
          },
          "metadata": {}
        },
        {
          "output_type": "stream",
          "name": "stdout",
          "text": [
            "Requirement already satisfied: openai in /usr/local/lib/python3.10/dist-packages (1.44.1)\n",
            "Requirement already satisfied: tiktoken in /usr/local/lib/python3.10/dist-packages (0.7.0)\n",
            "Requirement already satisfied: mdextractor in /usr/local/lib/python3.10/dist-packages (0.0.3)\n",
            "Requirement already satisfied: anyio<5,>=3.5.0 in /usr/local/lib/python3.10/dist-packages (from openai) (3.7.1)\n",
            "Requirement already satisfied: distro<2,>=1.7.0 in /usr/lib/python3/dist-packages (from openai) (1.7.0)\n",
            "Requirement already satisfied: httpx<1,>=0.23.0 in /usr/local/lib/python3.10/dist-packages (from openai) (0.27.2)\n",
            "Requirement already satisfied: jiter<1,>=0.4.0 in /usr/local/lib/python3.10/dist-packages (from openai) (0.5.0)\n",
            "Requirement already satisfied: pydantic<3,>=1.9.0 in /usr/local/lib/python3.10/dist-packages (from openai) (2.8.2)\n",
            "Requirement already satisfied: sniffio in /usr/local/lib/python3.10/dist-packages (from openai) (1.3.1)\n",
            "Requirement already satisfied: tqdm>4 in /usr/local/lib/python3.10/dist-packages (from openai) (4.66.5)\n",
            "Requirement already satisfied: typing-extensions<5,>=4.11 in /usr/local/lib/python3.10/dist-packages (from openai) (4.12.2)\n",
            "Requirement already satisfied: regex>=2022.1.18 in /usr/local/lib/python3.10/dist-packages (from tiktoken) (2024.5.15)\n",
            "Requirement already satisfied: requests>=2.26.0 in /usr/local/lib/python3.10/dist-packages (from tiktoken) (2.32.3)\n",
            "Requirement already satisfied: idna>=2.8 in /usr/local/lib/python3.10/dist-packages (from anyio<5,>=3.5.0->openai) (3.8)\n",
            "Requirement already satisfied: exceptiongroup in /usr/local/lib/python3.10/dist-packages (from anyio<5,>=3.5.0->openai) (1.2.2)\n",
            "Requirement already satisfied: certifi in /usr/local/lib/python3.10/dist-packages (from httpx<1,>=0.23.0->openai) (2024.8.30)\n",
            "Requirement already satisfied: httpcore==1.* in /usr/local/lib/python3.10/dist-packages (from httpx<1,>=0.23.0->openai) (1.0.5)\n",
            "Requirement already satisfied: h11<0.15,>=0.13 in /usr/local/lib/python3.10/dist-packages (from httpcore==1.*->httpx<1,>=0.23.0->openai) (0.14.0)\n",
            "Requirement already satisfied: annotated-types>=0.4.0 in /usr/local/lib/python3.10/dist-packages (from pydantic<3,>=1.9.0->openai) (0.7.0)\n",
            "Requirement already satisfied: pydantic-core==2.20.1 in /usr/local/lib/python3.10/dist-packages (from pydantic<3,>=1.9.0->openai) (2.20.1)\n",
            "Requirement already satisfied: charset-normalizer<4,>=2 in /usr/local/lib/python3.10/dist-packages (from requests>=2.26.0->tiktoken) (3.3.2)\n",
            "Requirement already satisfied: urllib3<3,>=1.21.1 in /usr/local/lib/python3.10/dist-packages (from requests>=2.26.0->tiktoken) (2.0.7)\n"
          ]
        }
      ],
      "source": [
        "!pip install openai tiktoken mdextractor"
      ]
    },
    {
      "cell_type": "code",
      "execution_count": null,
      "metadata": {
        "colab": {
          "base_uri": "https://localhost:8080/",
          "height": 17
        },
        "id": "Ib73k_SnnJi3",
        "outputId": "726fad4f-e63d-49a0-8896-eb9e47376f91"
      },
      "outputs": [
        {
          "output_type": "display_data",
          "data": {
            "text/plain": [
              "<IPython.core.display.HTML object>"
            ],
            "text/html": [
              "\n",
              "  <style>\n",
              "    pre {\n",
              "        white-space: pre-wrap;\n",
              "    }\n",
              "  </style>\n",
              "  "
            ]
          },
          "metadata": {}
        },
        {
          "output_type": "display_data",
          "data": {
            "text/plain": [
              "<IPython.core.display.HTML object>"
            ],
            "text/html": [
              "\n",
              "  <style>\n",
              "    pre {\n",
              "        white-space: pre-wrap;\n",
              "    }\n",
              "  </style>\n",
              "  "
            ]
          },
          "metadata": {}
        }
      ],
      "source": [
        "import os\n",
        "\n",
        "def load_file(path):\n",
        "  if path.endswith(\".txt\"):\n",
        "      with open(path, 'r', encoding='utf-8') as file:\n",
        "        return file.read().strip()\n",
        "  raise Exception(\"Sorry, the file must be a txt\")\n",
        "\n",
        "\n",
        "def ask_gpt(prompt, model=\"gpt-4o-2024-08-06\", max_tokens=100, temperature=0.4):\n",
        "    import time\n",
        "    from openai import OpenAI\n",
        "    client = OpenAI(organization=ORG, api_key=KEY)\n",
        "    try:\n",
        "        time.sleep(10)\n",
        "        response = client.chat.completions.create(\n",
        "            model=model,\n",
        "            messages = [{\"role\": \"user\", \"content\": x} for x in prompt],\n",
        "            temperature=temperature,\n",
        "            max_tokens=max_tokens\n",
        "        )\n",
        "        return response.choices[0].message.content\n",
        "    except Exception as e:\n",
        "      print(e)\n",
        "\n",
        "\n",
        "def extract_code(completion):\n",
        "  from mdextractor import extract_md_blocks\n",
        "  blocks = extract_md_blocks(completion)\n",
        "  return blocks[0]"
      ]
    },
    {
      "cell_type": "markdown",
      "metadata": {
        "id": "rBX9Z5NLpmyl"
      },
      "source": [
        "# Legal Fragments"
      ]
    },
    {
      "cell_type": "code",
      "execution_count": null,
      "metadata": {
        "colab": {
          "base_uri": "https://localhost:8080/"
        },
        "id": "WiQej21VnaK5",
        "outputId": "293f8791-763a-44f7-ffb3-1f592bd564d5"
      },
      "outputs": [
        {
          "output_type": "display_data",
          "data": {
            "text/plain": [
              "<IPython.core.display.HTML object>"
            ],
            "text/html": [
              "\n",
              "  <style>\n",
              "    pre {\n",
              "        white-space: pre-wrap;\n",
              "    }\n",
              "  </style>\n",
              "  "
            ]
          },
          "metadata": {}
        },
        {
          "output_type": "display_data",
          "data": {
            "text/plain": [
              "<IPython.core.display.HTML object>"
            ],
            "text/html": [
              "\n",
              "  <style>\n",
              "    pre {\n",
              "        white-space: pre-wrap;\n",
              "    }\n",
              "  </style>\n",
              "  "
            ]
          },
          "metadata": {}
        }
      ],
      "source": [
        "facts = \"\"\"\n",
        "issuing_member_state(MemberState) - this is the issuing member state\n",
        "person_role(PersonId, Role) - the person has a certain role in the proceedings\n",
        "offence_type(Offence) - this is the offence\n",
        "offence_committed_in(MemberState) - the offence was committed in this member state\n",
        "executing_member_state(MemberState) - this is the executing member state\n",
        "executing_proceeding_purpose(PersonId, Purpose) - the proceedings in the executing member state are for a certain purpose\n",
        "executing_proceeding(ExecutingMemberState, PersonId, Purpose) - the proceedings in the executing member state for this purpose relate to this person\n",
        "person_age(PersonId, Age) - a person is a certain age\n",
        "national_law_not_offence(Offence, MemberState) - an offence is not a crime according to the law of the execute member state\n",
        "person_event(PersonId, SpecificEvent, Offence) - a person, who committed an offence, has been subject to a specific event during the course of the proceedings\n",
        "issuing_proceeding_status(Offence, MemberState, SpecificStatus) - in the proceedings related to an offence in the issuing member state, this status applies\n",
        "executing_proceeding_status(Offence, MemberState, SpecificStatus) - in the proceedings related to an offence in the executing member state, this status applies\n",
        "person_nationality(PersonId, MemberState) - the person has the nationality of this state\n",
        "person_residence(PersonId, MemberState) - the person has the residence of this state\n",
        "age_of_criminal_responsibility(State, AgeLimit) - this is the age of criminal responsibility\n",
        "\"\"\"\n",
        "\n",
        "art_1_pl = \"\"\"\n",
        "eaw_matter(PersonId, IssuingMemberState, ExecutingMemberState, Offence):-\n",
        "    issuing_proceeding(IssuingMemberState, _, PersonId),\n",
        "    offence_type(Offence),\n",
        "    (\n",
        "        art2_2applies(Offence)\n",
        "    ;   art2_4applies(Offence)\n",
        "    ),\n",
        "    (\n",
        "        executing_proceeding(ExecutingMemberState, PersonId, criminal_prosecution)\n",
        "    ;   executing_proceeding(ExecutingMemberState, PersonId, execution_custodial_sentence)\n",
        "    ;   executing_proceeding(ExecutingMemberState, PersonId, execution_detention_order)\n",
        "    ).\n",
        "\n",
        "executing_proceeding(ExecutingMemberState, PersonId, Purpose):-\n",
        "    executing_member_state(ExecutingMemberState),\n",
        "    executing_proceeding_purpose(PersonId, Purpose),\n",
        "    member(Purpose, [criminal_prosecution, execution_custodial_sentence, execution_detention_order]),\n",
        "    person_role(PersonId, subject_eaw).\n",
        "\n",
        "issuing_proceeding(IssuingMemberState, _, PersonId):-\n",
        "    issuing_member_state(IssuingMemberState),\n",
        "    person_role(PersonId, subject_eaw).\n",
        "\"\"\"\n",
        "\n",
        "art_4_int = \"\"\"\n",
        "%%Article 4\n",
        "%Grounds for optional non-execution of the European arrest warrant\n",
        "%The executing judicial authority may refuse to execute the European arrest warrant:\n",
        "\"\"\"\n",
        "\n",
        "art_4_1 = \"\"\"\n",
        "%1. if, in one of the cases referred to in Article 2(4), the act on which the European arrest warrant is based does not constitute an offence under the law of the executing Member State; however, in relation to taxes or duties, customs and exchange, execution of the European arrest warrant shall not be refused on the ground that the law of the executing Member State does not impose the same kind of tax or duty or does not contain the same type of rules as regards taxes, duties and customs and exchange regulations as the law of the issuing Member State;\n",
        "\"\"\"\n",
        "\n",
        "art_4_1_pl = \"\"\"\n",
        "optional_refusal(article4_1, ExecutingMemberState, europeanArrestWarrant):-\n",
        "    eaw_matter(PersonId, IssuingMemberState, ExecutingMemberState, Offence),\n",
        "    art2_4applies(Offence),\n",
        "    national_law_not_offence(Offence, ExecutingMemberState).\n",
        "\n",
        "%eaw_matter(PersonId, IssuingMemberState, ExecutingMemberState, Offence) = the article concerns the european arrest warrant\n",
        "%art2_4applies(Offence) = in one of the cases referred to in Article 2(4)\n",
        "%national_law_not_offence(Offence, ExecutingMemberState) = the act [...] does not constitute an offence under the law of the executing Member State\n",
        "\n",
        "\"\"\"\n",
        "\n",
        "art_4_2 = \"\"\"\n",
        "%2. where the person who is the subject of the European arrest warrant is being prosecuted in the executing Member State for the same act as that on which the European arrest warrant is based;\n",
        "\"\"\"\n",
        "\n",
        "art_4_3 = \"\"\"\n",
        "%3. where the judicial authorities of the executing Member State have decided either not to prosecute for the offence on which the European arrest warrant is based or to halt proceedings, or where a final judgment has been passed upon the requested person in a Member State, in respect of the same acts, which prevents further proceedings;\n",
        "\"\"\"\n",
        "\n",
        "art_4_4 = \"\"\"\n",
        "%4. where the criminal prosecution or punishment of the requested person is statute-barred according to the law of the executing Member State and the acts fall within the jurisdiction of that Member State under its own criminal law;\n",
        "\"\"\"\n",
        "\n",
        "art_4_5 = \"\"\"\n",
        "%5. if the executing judicial authority is informed that the requested person has been finally judged by a third State in respect of the same acts provided that, where there has been sentence, the sentence has been served or is currently being served or may no longer be executed under the law of the sentencing country;\n",
        "\"\"\"\n",
        "\n",
        "art_4_6 = \"\"\"\n",
        "%6. if the European arrest warrant has been issued for the purposes of execution of a custodial sentence or detention order, where the requested person is staying in, or is a national or a resident of the executing Member State and that State undertakes to execute the sentence or detention order in accordance with its domestic law;\n",
        "\"\"\"\n",
        "\n",
        "art_4_7 = \"\"\"\n",
        "%7. where the European arrest warrant relates to offences which:\n",
        "%(a) are regarded by the law of the executing Member State as having been committed in whole or in part in the territory of the executing Member State or in a place treated as such; or\n",
        "\n",
        "%(b) have been committed outside the territory of the issuing Member State and the law of the executing Member State does not allow prosecution for the same offences when committed outside its territory.\n",
        "\"\"\"\n",
        "\n",
        "art_4_pl = \"\"\"\n",
        "optional_refusal(article4_2, ExecutingMemberState, europeanArrestWarrant):-\n",
        "    eaw_matter(PersonId, IssuingMemberState, ExecutingMemberState, Offence),\n",
        "    person_event(PersonId, under_prosecution_by_executing_state, Offence). %proceeding_status(Offence, ExecutingMemberState, ongoing)\n",
        "\n",
        "optional_refusal(article4_3, ExecutingMemberState, europeanArrestWarrant):-\n",
        "    eaw_matter(PersonId, IssuingMemberState, ExecutingMemberState, Offence),\n",
        "    (\n",
        "        executing_proceeding_status(Offence, ExecutingMemberState, no_prosecution)\n",
        "    ;   executing_proceeding_status(Offence, ExecutingMemberState, halted)\n",
        "    ;   person_event(PersonId, irrevocably_convicted_in_ms, Offence)  %proceeding_status(Offence, ExecutingMemberState, final_judgement),\n",
        "    ).\n",
        "\n",
        "optional_refusal(article4_4, ExecutingMemberState, europeanArrestWarrant):-\n",
        "    eaw_matter(PersonId, IssuingMemberState, ExecutingMemberState, Offence),\n",
        "    executing_proceeding_status(Offence, ExecutingMemberState, statute_barred).\n",
        "\n",
        "optional_refusal(article4_5, ExecutingMemberState, europeanArrestWarrant):-\n",
        "    eaw_matter(PersonId, IssuingMemberState, ExecutingMemberState, Offence),\n",
        "    person_event(PersonId, irrevocably_convicted_in_third_state, Offence),\n",
        "    %ExecutingMemberState \\= ThirdState,\n",
        "    (\n",
        "        sentence_served_in_third_state(PersonId)\n",
        "    ;   sentence_being_served_in_third_state(PersonId)\n",
        "    ;   sentence_execution_impossible_in_third_state(PersonId)\n",
        "    ).\n",
        "\n",
        "optional_refusal(article4_7_a, ExecutingMemberState, europeanArrestWarrant):-\n",
        "    eaw_matter(PersonId, IssuingMemberState, ExecutingMemberState, Offence),\n",
        "    executing_proceeding_status(Offence, ExecutingMemberState, committed_inside_territory).\n",
        "\n",
        "\n",
        "optional_refusal(article4_7_b, ExecutingMemberState, europeanArrestWarrant):-\n",
        "    eaw_matter(PersonId, IssuingMemberState, ExecutingMemberState, Offence),\n",
        "    issuing_proceeding_status(Offence, IssuingMemberState, committed_outside_territory),\n",
        "    prosecution_not_allowed(Offence, ExecutingMemberState).\n",
        "\n",
        "\"\"\"\n",
        "\n",
        "art_4_6_pl =\"\"\"\n",
        "optional_refusal(article4_6, ExecutingMemberState, europeanArrestWarrant):-\n",
        "    eaw_matter(PersonId, IssuingMemberState, ExecutingMemberState, Offence),\n",
        "    (\n",
        "        executing_proceeding(ExecutingMemberState, PersonId, execution_custodial_sentence)\n",
        "    ;   executing_proceeding(ExecutingMemberState, PersonId, execution_detention_order)\n",
        "    ),\n",
        "    (\n",
        "%        person_staying_in(PersonId, ExecutingMemberState)\n",
        "        person_nationality(PersonId, ExecutingMemberState)\n",
        "    ;   person_residence(PersonId, _, ExecutingMemberState, _)\n",
        "    ).\n",
        "\"\"\"\n",
        "\n",
        "case_example = \"\"\"\n",
        "%%% Case Law Name\n",
        "case_law(EU Article, Case Law Name):-\n",
        "    Case Law Elements.\n",
        "\n",
        "%%% Prolog Article\n",
        "case_law_refusal(EU Article, Case Law Name, europeanArrestWarrant):-\n",
        "    optional_refusal(EU Article, ExecutingMemberState, europeanArrestWarrant),\n",
        "    case_law(EU Article, Case Law Name).\n",
        "\"\"\""
      ]
    },
    {
      "cell_type": "code",
      "source": [
        "sentenza_4_6 = load_file(\"/content/sentenza_4_6_eaw.txt\")"
      ],
      "metadata": {
        "id": "thNQTBEtvUst"
      },
      "execution_count": null,
      "outputs": []
    },
    {
      "cell_type": "markdown",
      "source": [
        "# Task 1: Article Genaration"
      ],
      "metadata": {
        "id": "x2vVGe1gRECj"
      }
    },
    {
      "cell_type": "markdown",
      "source": [
        "## Prompts"
      ],
      "metadata": {
        "id": "QXyrG-1MuTvL"
      }
    },
    {
      "cell_type": "code",
      "source": [
        "def complete_from_facts(code_base, fact, target, temperature=0.1, max_tokens=2000):\n",
        "    txt = f\"\"\"\n",
        "        Given the following list of Prolog facts and rules:\n",
        "\n",
        "        List of Prolog Rules:\n",
        "\n",
        "        {code_base}\n",
        "\n",
        "        List of Prolog Facts:\n",
        "\n",
        "        {fact}\n",
        "\n",
        "        Complete the representation of the following article:\n",
        "\n",
        "        {target}\n",
        "\n",
        "        Only use the Prolog facts provided.\n",
        "        New rules can be created, as long as they are based on existing facts.\n",
        "\n",
        "        The output should follow the following structure:\n",
        "\n",
        "        fragment of text 1\n",
        "        prolog representation 1\n",
        "\n",
        "        ...\n",
        "\n",
        "        fragment of text n\n",
        "        prolog representation n\n",
        "\n",
        "        The goal of the rules is always the mandatory / optional refusal of the instrument.\n",
        "        Your output should contain only the required code inserted in a Markdown code block.\n",
        "    \"\"\"\n",
        "    return ask_gpt([txt], temperature=temperature, max_tokens=max_tokens)\n",
        "\n",
        "\n",
        "def revise_facts(code_base, temperature=0.5, max_tokens=2000):\n",
        "    txt = f\"\"\"\n",
        "        Given the following list of Prolog rules:\n",
        "\n",
        "        {code_base}\n",
        "\n",
        "        Identify possible problems:\n",
        "        - inconsistent naming or arity.\n",
        "        - fail to capture relevant information.\n",
        "        - no correspondance between natural language and rules.\n",
        "        - mixed legal conditions.\n",
        "\n",
        "        The output should include only the identified problems.\n",
        "\n",
        "        The output should follow the following structure:\n",
        "        problem 1\n",
        "        explanation of the problem\n",
        "        ...\n",
        "        problem n\n",
        "        explanation of the problem\n",
        "\n",
        "        Your output should contain only the required code inserted in a Markdown code block.\n",
        "    \"\"\"\n",
        "    return ask_gpt([txt], temperature=temperature, max_tokens=max_tokens)\n",
        "\n",
        "\n",
        "def apply_revision(code_base, revision, numbers, temperature=0.1, max_tokens=2000):\n",
        "\n",
        "    problems = extract_code(revision).split(\"\\n\\n\")\n",
        "    selected_problems = [y for x, y in enumerate(problems) if x + 1 in numbers]\n",
        "\n",
        "    txt = f\"\"\"\n",
        "        Given the following list of Prolog rules and a set of revisions:\n",
        "\n",
        "        List of Prolog Rules:\n",
        "\n",
        "        {code_base}\n",
        "\n",
        "        Revision:\n",
        "\n",
        "        {selected_problems}\n",
        "\n",
        "        Apply the revisions and solve the issues!\n",
        "\n",
        "        Your output should contain only the required code inserted in a Markdown code block.\n",
        "    \"\"\"\n",
        "    return ask_gpt([txt], temperature=temperature, max_tokens=max_tokens)"
      ],
      "metadata": {
        "colab": {
          "base_uri": "https://localhost:8080/",
          "height": 17
        },
        "id": "JVLxrA_D_sdn",
        "outputId": "94f048f3-337b-49d1-e55c-d3f17c7a5b37"
      },
      "execution_count": null,
      "outputs": [
        {
          "output_type": "display_data",
          "data": {
            "text/plain": [
              "<IPython.core.display.HTML object>"
            ],
            "text/html": [
              "\n",
              "  <style>\n",
              "    pre {\n",
              "        white-space: pre-wrap;\n",
              "    }\n",
              "  </style>\n",
              "  "
            ]
          },
          "metadata": {}
        }
      ]
    },
    {
      "cell_type": "markdown",
      "source": [
        "## Article 4 - Complete"
      ],
      "metadata": {
        "id": "kBVRb3vIuWxq"
      }
    },
    {
      "cell_type": "code",
      "source": [
        "target = [art_4_2, art_4_3, art_4_4, art_4_5, art_4_6, art_4_7]\n",
        "\n",
        "completion = [complete_from_facts(f\"\"\"\n",
        "        {art_4_int}\n",
        "        {art_4_1}\n",
        "        {art_1_pl}\n",
        "        {art_4_1_pl}\n",
        "  \"\"\", facts, x) for x in target]\n",
        "\n",
        "for x in completion:\n",
        "  print(x)\n",
        "  print()"
      ],
      "metadata": {
        "colab": {
          "base_uri": "https://localhost:8080/",
          "height": 1000
        },
        "id": "e_sNn5t5RH3l",
        "outputId": "5607a570-2773-4bab-d6f8-271baa614bab"
      },
      "execution_count": null,
      "outputs": [
        {
          "output_type": "display_data",
          "data": {
            "text/plain": [
              "<IPython.core.display.HTML object>"
            ],
            "text/html": [
              "\n",
              "  <style>\n",
              "    pre {\n",
              "        white-space: pre-wrap;\n",
              "    }\n",
              "  </style>\n",
              "  "
            ]
          },
          "metadata": {}
        },
        {
          "output_type": "stream",
          "name": "stdout",
          "text": [
            "```prolog\n",
            "%2. where the person who is the subject of the European arrest warrant is being prosecuted in the executing Member State for the same act as that on which the European arrest warrant is based;\n",
            "\n",
            "optional_refusal(article4_2, ExecutingMemberState, europeanArrestWarrant):-\n",
            "    eaw_matter(PersonId, IssuingMemberState, ExecutingMemberState, Offence),\n",
            "    executing_proceeding(ExecutingMemberState, PersonId, criminal_prosecution),\n",
            "    person_event(PersonId, prosecution, Offence).\n",
            "```\n",
            "\n",
            "```prolog\n",
            "%3. where the judicial authorities of the executing Member State have decided either not to prosecute for the offence on which the European arrest warrant is based\n",
            "optional_refusal(article4_3a, ExecutingMemberState, europeanArrestWarrant):-\n",
            "    eaw_matter(PersonId, IssuingMemberState, ExecutingMemberState, Offence),\n",
            "    executing_proceeding_status(Offence, ExecutingMemberState, not_to_prosecute).\n",
            "\n",
            "%or to halt proceedings,\n",
            "optional_refusal(article4_3b, ExecutingMemberState, europeanArrestWarrant):-\n",
            "    eaw_matter(PersonId, IssuingMemberState, ExecutingMemberState, Offence),\n",
            "    executing_proceeding_status(Offence, ExecutingMemberState, halt_proceedings).\n",
            "\n",
            "%or where a final judgment has been passed upon the requested person in a Member State, in respect of the same acts, which prevents further proceedings;\n",
            "optional_refusal(article4_3c, ExecutingMemberState, europeanArrestWarrant):-\n",
            "    eaw_matter(PersonId, IssuingMemberState, ExecutingMemberState, Offence),\n",
            "    person_event(PersonId, final_judgment, Offence),\n",
            "    executing_proceeding_status(Offence, ExecutingMemberState, prevents_further_proceedings).\n",
            "```\n",
            "\n",
            "```prolog\n",
            "%4. where the criminal prosecution or punishment of the requested person is statute-barred according to the law of the executing Member State and the acts fall within the jurisdiction of that Member State under its own criminal law;\n",
            "optional_refusal(article4_4, ExecutingMemberState, europeanArrestWarrant):-\n",
            "    eaw_matter(PersonId, IssuingMemberState, ExecutingMemberState, Offence),\n",
            "    statute_barred(ExecutingMemberState, Offence),\n",
            "    jurisdiction_under_criminal_law(ExecutingMemberState, Offence).\n",
            "\n",
            "%statute_barred(ExecutingMemberState, Offence) = the criminal prosecution or punishment of the requested person is statute-barred according to the law of the executing Member State\n",
            "statute_barred(ExecutingMemberState, Offence):-\n",
            "    executing_proceeding_status(Offence, ExecutingMemberState, statute_barred).\n",
            "\n",
            "%jurisdiction_under_criminal_law(ExecutingMemberState, Offence) = the acts fall within the jurisdiction of that Member State under its own criminal law\n",
            "jurisdiction_under_criminal_llaw(ExecutingMemberState, Offence):-\n",
            "    offence_committed_in(ExecutingMemberState).\n",
            "```\n",
            "\n",
            "```prolog\n",
            "%5. if the executing judicial authority is informed that the requested person has been finally judged by a third State in respect of the same acts provided that, where there has been sentence, the sentence has been served or is currently being served or may no longer be executed under the law of the sentencing country;\n",
            "\n",
            "optional_refusal(article4_5, ExecutingMemberState, europeanArrestWarrant):-\n",
            "    eaw_matter(PersonId, IssuingMemberState, ExecutingMemberState, Offence),\n",
            "    person_event(PersonId, final_judgment, Offence),\n",
            "    third_state_judgment(ThirdState, PersonId, Offence),\n",
            "    (\n",
            "        sentence_served(ThirdState, PersonId, Offence)\n",
            "    ;   sentence_currently_served(ThirdState, PersonId, Offence)\n",
            "    ;   sentence_no_longer_executable(ThirdState, PersonId, Offence)\n",
            "    ).\n",
            "\n",
            "third_state_judgment(ThirdState, PersonId, Offence):-\n",
            "    issuing_member_state(IssuingMemberState),\n",
            "    executing_member_state(ExecutingMemberState),\n",
            "    ThirdState \\= IssuingMemberState,\n",
            "    ThirdState \\= ExecutingMemberState,\n",
            "    person_event(PersonId, final_judgment, Offence).\n",
            "\n",
            "sentence_served(ThirdState, PersonId, Offence):-\n",
            "    person_event(PersonId, sentence_served, Offence),\n",
            "    person_residence(PersonId, ThirdState).\n",
            "\n",
            "sentence_currently_served(ThirdState, PersonId, Offence):-\n",
            "    person_event(PersonId, sentence_currently_served, Offence),\n",
            "    person_residence(PersonId, ThirdState).\n",
            "\n",
            "sentence_no_longer_executable(ThirdState, PersonId, Offence):-\n",
            "    person_event(PersonId, sentence_no_longer_executable, Offence),\n",
            "    person_residence(PersonId, ThirdState).\n",
            "```\n",
            "\n",
            "```prolog\n",
            "%6. if the European arrest warrant has been issued for the purposes of execution of a custodial sentence or detention order,\n",
            "%where the requested person is staying in, or is a national or a resident of the executing Member State and that State undertakes to execute the sentence or detention order in accordance with its domestic law;\n",
            "\n",
            "optional_refusal(article4_6, ExecutingMemberState, europeanArrestWarrant):-\n",
            "    eaw_matter(PersonId, IssuingMemberState, ExecutingMemberState, Offence),\n",
            "    (\n",
            "        executing_proceeding(ExecutingMemberState, PersonId, execution_custodial_sentence)\n",
            "    ;   executing_proceeding(ExecutingMemberState, PersonId, execution_detention_order)\n",
            "    ),\n",
            "    (\n",
            "        person_residence(PersonId, ExecutingMemberState)\n",
            "    ;   person_nationality(PersonId, ExecutingMemberState)\n",
            "    ;   person_staying_in(PersonId, ExecutingMemberState)\n",
            "    ),\n",
            "    state_undertakes_execution(ExecutingMemberState, execution_custodial_sentence, Offence).\n",
            "\n",
            "% person_staying_in(PersonId, ExecutingMemberState) - the person is staying in the executing member state\n",
            "person_staying_in(PersonId, ExecutingMemberState):-\n",
            "    person_residence(PersonId, ExecutingMemberState).\n",
            "\n",
            "% state_undertakes_execution(ExecutingMemberState, Purpose, Offence) - the state undertakes to execute the sentence or detention order\n",
            "state_undertakes_execution(ExecutingMemberState, Purpose, Offence):-\n",
            "    executing_member_state(ExecutingMemberState),\n",
            "    member(Purpose, [execution_custodial_sentence, execution_detention_order]),\n",
            "    offence_type(Offence).\n",
            "```\n",
            "\n",
            "```prolog\n",
            "%7. where the European arrest warrant relates to offences which:\n",
            "%(a) are regarded by the law of the executing Member State as having been committed in whole or in part in the territory of the executing Member State or in a place treated as such; or\n",
            "\n",
            "optional_refusal(article4_7a, ExecutingMemberState, europeanArrestWarrant):-\n",
            "    eaw_matter(PersonId, IssuingMemberState, ExecutingMemberState, Offence),\n",
            "    offence_committed_in(ExecutingMemberState).\n",
            "\n",
            "%(b) have been committed outside the territory of the issuing Member State and the law of the executing Member State does not allow prosecution for the same offences when committed outside its territory.\n",
            "\n",
            "optional_refusal(article4_7b, ExecutingMemberState, europeanArrestWarrant):-\n",
            "    eaw_matter(PersonId, IssuingMemberState, ExecutingMemberState, Offence),\n",
            "    \\+ offence_committed_in(IssuingMemberState),\n",
            "    \\+ executing_proceeding(ExecutingMemberState, PersonId, criminal_prosecution).\n",
            "```\n",
            "\n"
          ]
        }
      ]
    },
    {
      "cell_type": "code",
      "source": [
        "s_compl = \"\\n\\n\\n\".join([extract_code(x) for x in completion])\n",
        "\n",
        "revision = revise_facts(f\"\"\"\n",
        "        {art_4_int}\n",
        "        {art_4_1}\n",
        "        {art_1_pl}\n",
        "        {art_4_1_pl}\n",
        "        {s_compl}\n",
        "  \"\"\")\n",
        "print(revision)"
      ],
      "metadata": {
        "colab": {
          "base_uri": "https://localhost:8080/",
          "height": 364
        },
        "id": "kkg-_4vjSkQh",
        "outputId": "9d3b61e9-5f0f-4feb-9cdb-12a7c144032e"
      },
      "execution_count": null,
      "outputs": [
        {
          "output_type": "display_data",
          "data": {
            "text/plain": [
              "<IPython.core.display.HTML object>"
            ],
            "text/html": [
              "\n",
              "  <style>\n",
              "    pre {\n",
              "        white-space: pre-wrap;\n",
              "    }\n",
              "  </style>\n",
              "  "
            ]
          },
          "metadata": {}
        },
        {
          "output_type": "stream",
          "name": "stdout",
          "text": [
            "```markdown\n",
            "problem 1\n",
            "The rule `jurisdiction_under_criminal_llaw/2` has a typo in the predicate name. It should be `jurisdiction_under_criminal_law/2`.\n",
            "\n",
            "problem 2\n",
            "The rule `jurisdiction_under_criminal_llaw/2` does not match the predicate used in `optional_refusal(article4_4, ...)`.\n",
            "\n",
            "problem 3\n",
            "The rule `optional_refusal(article4_7b, ...)` checks for `\\+ executing_proceeding(ExecutingMemberState, PersonId, criminal_prosecution)`, but the condition in the natural language description is about the law not allowing prosecution, not the absence of prosecution.\n",
            "\n",
            "problem 4\n",
            "The rule `optional_refusal(article4_3c, ...)` uses `executing_proceeding_status(Offence, ExecutingMemberState, prevents_further_proceedings)` to check if further proceedings are prevented, but this condition is not clearly defined in the natural language description.\n",
            "\n",
            "problem 5\n",
            "The rule `state_undertakes_execution/3` does not capture the condition that the state undertakes to execute the sentence or detention order \"in accordance with its domestic law\" as mentioned in the natural language description for Article 4(6).\n",
            "```\n"
          ]
        }
      ]
    },
    {
      "cell_type": "code",
      "source": [
        "revised = apply_revision(f\"\"\"\n",
        "        {art_4_int}\n",
        "        {art_4_1}\n",
        "        {art_1_pl}\n",
        "        {art_4_1_pl}\n",
        "        {s_compl}\n",
        "  \"\"\", revision, [1,2,3])\n",
        "print(revised)"
      ],
      "metadata": {
        "colab": {
          "base_uri": "https://localhost:8080/",
          "height": 327
        },
        "id": "1mcelCcDX_Nh",
        "outputId": "54b26099-b84b-4c8b-ef94-deba5ad7e796"
      },
      "execution_count": null,
      "outputs": [
        {
          "output_type": "display_data",
          "data": {
            "text/plain": [
              "<IPython.core.display.HTML object>"
            ],
            "text/html": [
              "\n",
              "  <style>\n",
              "    pre {\n",
              "        white-space: pre-wrap;\n",
              "    }\n",
              "  </style>\n",
              "  "
            ]
          },
          "metadata": {}
        },
        {
          "output_type": "stream",
          "name": "stdout",
          "text": [
            "```prolog\n",
            "% Corrected rule with the typo fixed\n",
            "jurisdiction_under_criminal_law(ExecutingMemberState, Offence):-\n",
            "    offence_committed_in(ExecutingMemberState).\n",
            "\n",
            "% Corrected rule for optional refusal under article 4.7b\n",
            "optional_refusal(article4_7b, ExecutingMemberState, europeanArrestWarrant):-\n",
            "    eaw_matter(PersonId, IssuingMemberState, ExecutingMemberState, Offence),\n",
            "    \\+ offence_committed_in(IssuingMemberState),\n",
            "    \\+ law_allows_prosecution_outside_territory(ExecutingMemberState, Offence).\n",
            "\n",
            "% New rule to check if the law allows prosecution outside its territory\n",
            "law_allows_prosecution_outside_territory(ExecutingMemberState, Offence):-\n",
            "    executing_member_state(ExecutingMemberState),\n",
            "    offence_type(Offence),\n",
            "    allows_prosecution_outside_territory(ExecutingMemberState, Offence).\n",
            "```\n"
          ]
        }
      ]
    },
    {
      "cell_type": "markdown",
      "source": [
        "## Article 4(6) - Paper Example"
      ],
      "metadata": {
        "id": "Q5DaO-tTu2Sp"
      }
    },
    {
      "cell_type": "code",
      "source": [
        "target = [art_4_6]\n",
        "\n",
        "completion = [complete_from_facts(f\"\"\"\n",
        "        {art_4_int}\n",
        "        {art_4_1}\n",
        "        {art_1_pl}\n",
        "        {art_4_1_pl}\n",
        "  \"\"\", facts + \"\\nperson_staying_in(PersonId, MemberState) - the person lives in this state\", x, temperature=0.1) for x in target]\n",
        "\n",
        "for x in completion:\n",
        "  print(x)\n",
        "  print()"
      ],
      "metadata": {
        "id": "fFlIE9kifsZD",
        "colab": {
          "base_uri": "https://localhost:8080/",
          "height": 416
        },
        "outputId": "06232591-4a2a-49e9-eb80-5bc99c48c945"
      },
      "execution_count": null,
      "outputs": [
        {
          "output_type": "display_data",
          "data": {
            "text/plain": [
              "<IPython.core.display.HTML object>"
            ],
            "text/html": [
              "\n",
              "  <style>\n",
              "    pre {\n",
              "        white-space: pre-wrap;\n",
              "    }\n",
              "  </style>\n",
              "  "
            ]
          },
          "metadata": {}
        },
        {
          "output_type": "display_data",
          "data": {
            "text/plain": [
              "<IPython.core.display.HTML object>"
            ],
            "text/html": [
              "\n",
              "  <style>\n",
              "    pre {\n",
              "        white-space: pre-wrap;\n",
              "    }\n",
              "  </style>\n",
              "  "
            ]
          },
          "metadata": {}
        },
        {
          "output_type": "stream",
          "name": "stdout",
          "text": [
            "```prolog\n",
            "% if the European arrest warrant has been issued for the purposes of execution of a custodial sentence or detention order,\n",
            "eaw_execution_purpose(PersonId, ExecutingMemberState):-\n",
            "    executing_proceeding(ExecutingMemberState, PersonId, execution_custodial_sentence)\n",
            "    ; executing_proceeding(ExecutingMemberState, PersonId, execution_detention_order).\n",
            "\n",
            "% where the requested person is staying in, or is a national or a resident of the executing Member State\n",
            "person_in_executing_state(PersonId, ExecutingMemberState):-\n",
            "    person_staying_in(PersonId, ExecutingMemberState)\n",
            "    ; person_nationality(PersonId, ExecutingMemberState)\n",
            "    ; person_residence(PersonId, ExecutingMemberState).\n",
            "\n",
            "% and that State undertakes to execute the sentence or detention order in accordance with its domestic law\n",
            "state_undertakes_execution(ExecutingMemberState, Offence):-\n",
            "    executing_proceeding_status(Offence, ExecutingMemberState, execution_undertaken).\n",
            "\n",
            "% optional refusal of the European arrest warrant\n",
            "optional_refusal(article4_6, ExecutingMemberState, europeanArrestWarrant):-\n",
            "    eaw_execution_purpose(PersonId, ExecutingMemberState),\n",
            "    person_in_executing_state(PersonId, ExecutingMemberState),\n",
            "    state_undertakes_execution(ExecutingMemberState, Offence).\n",
            "```\n",
            "\n"
          ]
        }
      ]
    },
    {
      "cell_type": "code",
      "source": [
        "s_compl = \"\\n\\n\\n\".join([extract_code(x) for x in completion])\n",
        "\n",
        "revision = revise_facts_2(f\"\"\"\n",
        "        {art_4_int}\n",
        "        {art_4_1}\n",
        "        {art_1_pl}\n",
        "        {art_4_1_pl}\n",
        "        {s_compl}\n",
        "  \"\"\")\n",
        "print(revision)"
      ],
      "metadata": {
        "colab": {
          "base_uri": "https://localhost:8080/",
          "height": 381
        },
        "id": "nxNNUFxYjAGU",
        "outputId": "cc90b71a-8aee-45a9-d0ee-fe71f64c2dfb"
      },
      "execution_count": null,
      "outputs": [
        {
          "output_type": "display_data",
          "data": {
            "text/plain": [
              "<IPython.core.display.HTML object>"
            ],
            "text/html": [
              "\n",
              "  <style>\n",
              "    pre {\n",
              "        white-space: pre-wrap;\n",
              "    }\n",
              "  </style>\n",
              "  "
            ]
          },
          "metadata": {}
        },
        {
          "output_type": "display_data",
          "data": {
            "text/plain": [
              "<IPython.core.display.HTML object>"
            ],
            "text/html": [
              "\n",
              "  <style>\n",
              "    pre {\n",
              "        white-space: pre-wrap;\n",
              "    }\n",
              "  </style>\n",
              "  "
            ]
          },
          "metadata": {}
        },
        {
          "output_type": "stream",
          "name": "stdout",
          "text": [
            "```markdown\n",
            "problem 1\n",
            "Inconsistent naming: The predicate `eaw_for_execution/2` is named to suggest it checks if an EAW is for execution purposes, but its implementation checks if there is an executing proceeding for a custodial sentence or detention order. This could be misleading.\n",
            "\n",
            "problem 2\n",
            "Inconsistent naming: The predicate `executing_proceeding/3` includes a parameter named `Purpose`, but the rule's logic does not clearly distinguish between purposes, as it uses the same predicate to check for different types of proceedings. This could lead to confusion.\n",
            "\n",
            "problem 3\n",
            "Fail to capture relevant information: The rule `optional_refusal(article4_1, ExecutingMemberState, europeanArrestWarrant)` does not consider the exceptions related to taxes or duties, customs, and exchange regulations when determining if the EAW can be refused.\n",
            "\n",
            "problem 4\n",
            "No correspondence between natural language and rules: The rule `optional_refusal(article4_6, ExecutingMemberState, europeanArrestWarrant)` does not explicitly check if the executing state has undertaken to execute the sentence or detention order \"in accordance with its domestic law,\" which is a crucial part of Article 4(6).\n",
            "\n",
            "problem 5\n",
            "Mixed legal conditions: The rule `state_undertakes_execution/2` uses the predicate `executing_proceeding_status/3`, which may not clearly represent the legal condition of a state undertaking to execute a sentence according to its domestic law. This could lead to incorrect application of legal conditions.\n",
            "```\n"
          ]
        }
      ]
    },
    {
      "cell_type": "code",
      "source": [
        "revised = apply_revision_2(f\"\"\"\n",
        "        {art_4_int}\n",
        "        {art_4_1}\n",
        "        {art_1_pl}\n",
        "        {art_4_1_pl}\n",
        "        {s_compl}\n",
        "  \"\"\", revision, [5])\n",
        "print(revised)"
      ],
      "metadata": {
        "id": "egPfsthek81h",
        "colab": {
          "base_uri": "https://localhost:8080/",
          "height": 225
        },
        "outputId": "4e591298-b3cb-4869-94ff-0bcf4276cee8"
      },
      "execution_count": null,
      "outputs": [
        {
          "output_type": "display_data",
          "data": {
            "text/plain": [
              "<IPython.core.display.HTML object>"
            ],
            "text/html": [
              "\n",
              "  <style>\n",
              "    pre {\n",
              "        white-space: pre-wrap;\n",
              "    }\n",
              "  </style>\n",
              "  "
            ]
          },
          "metadata": {}
        },
        {
          "output_type": "display_data",
          "data": {
            "text/plain": [
              "<IPython.core.display.HTML object>"
            ],
            "text/html": [
              "\n",
              "  <style>\n",
              "    pre {\n",
              "        white-space: pre-wrap;\n",
              "    }\n",
              "  </style>\n",
              "  "
            ]
          },
          "metadata": {}
        },
        {
          "output_type": "stream",
          "name": "stdout",
          "text": [
            "```prolog\n",
            "% Revised predicate to better represent the legal condition of a state undertaking to execute a sentence according to its domestic law\n",
            "state_undertakes_execution(ExecutingMemberState, Offence):-\n",
            "    domestic_law_execution_commitment(ExecutingMemberState, Offence).\n",
            "\n",
            "% New predicate to represent the commitment of the executing state to undertake execution according to its domestic law\n",
            "domestic_law_execution_commitment(ExecutingMemberState, Offence):-\n",
            "    executing_member_state(ExecutingMemberState),\n",
            "    offence_type(Offence),\n",
            "    member(Offence, [offence1, offence2, offence3]). % Replace with actual offences that the state commits to execute\n",
            "```\n",
            "\n"
          ]
        }
      ]
    },
    {
      "cell_type": "markdown",
      "source": [
        "# Task 2: Case Generation"
      ],
      "metadata": {
        "id": "UpWEmOJzs_l0"
      }
    },
    {
      "cell_type": "markdown",
      "source": [
        "## Prompts"
      ],
      "metadata": {
        "id": "mHLxKCADvLfx"
      }
    },
    {
      "cell_type": "code",
      "source": [
        "def case_law_summary(target, temperature=0.1, max_tokens=2000):\n",
        "    txt = f\"\"\"\n",
        "        Provide a list of conditions related to the application\n",
        "          of a ground of refusal according to European Law.\n",
        "        Here is the case law:\n",
        "        {target}\n",
        "\n",
        "        The output should be in the following format:\n",
        "        - Case Law Name\n",
        "          - ground of refusal article\n",
        "          - ground of refusal conditions\n",
        "          - explanation of the elements\n",
        "          - case law influences (Apply only the elements which add information to existing elements.\n",
        "             Do not consider elements which expand the scope of the article for the legislator.)\n",
        "\n",
        "\n",
        "    \"\"\"\n",
        "    return ask_gpt([txt], temperature=temperature, max_tokens=max_tokens)\n",
        "\n",
        "def case_law_rules(target, code_base, article, temperature=0.5, max_tokens=2000):\n",
        "    txt = f\"\"\"\n",
        "        Here are a list of elements that change the application of an article based on case law.\n",
        "        The list comes with an explanation for each element.\n",
        "        {target}\n",
        "\n",
        "        Your task is to create new rules which formalize the case law.\n",
        "        Use only the elements necessary for applying of the ground of refusal.\n",
        "        Follow this style:\n",
        "        {code_base}\n",
        "\n",
        "        This is the article which relates to the case:\n",
        "        {article}\n",
        "\n",
        "        Apply only the elements which add information to existing predicates.\n",
        "        Do not consider elements which expand the scope of the article for the legislator.\n",
        "\n",
        "        These rules shall contain only the relevant case law information.\n",
        "\n",
        "        The final output should be in the following format:\n",
        "        - Article applied\n",
        "        - New prolog rule\n",
        "        - Explanation of the conditions\n",
        "\n",
        "    \"\"\"\n",
        "    return ask_gpt([txt], temperature=temperature, max_tokens=max_tokens)"
      ],
      "metadata": {
        "colab": {
          "base_uri": "https://localhost:8080/",
          "height": 17
        },
        "id": "yxSMEHfXtFZq",
        "outputId": "78ebad8b-82ce-4d22-97c4-5de117551b93"
      },
      "execution_count": null,
      "outputs": [
        {
          "output_type": "display_data",
          "data": {
            "text/plain": [
              "<IPython.core.display.HTML object>"
            ],
            "text/html": [
              "\n",
              "  <style>\n",
              "    pre {\n",
              "        white-space: pre-wrap;\n",
              "    }\n",
              "  </style>\n",
              "  "
            ]
          },
          "metadata": {}
        }
      ]
    },
    {
      "cell_type": "markdown",
      "source": [
        "## Judgment of the Court (Grand Chamber), 17 July 2008, Case C-66/08 - Paper Example"
      ],
      "metadata": {
        "id": "WxbBnXSUwNy_"
      }
    },
    {
      "cell_type": "code",
      "source": [
        "summary = case_law_summary(sentenza_4_6)\n",
        "print(summary)"
      ],
      "metadata": {
        "colab": {
          "base_uri": "https://localhost:8080/",
          "height": 474
        },
        "id": "n7dRvo9zukO5",
        "outputId": "23284090-357e-475a-a7f6-b5dda9e88ff0"
      },
      "execution_count": null,
      "outputs": [
        {
          "output_type": "display_data",
          "data": {
            "text/plain": [
              "<IPython.core.display.HTML object>"
            ],
            "text/html": [
              "\n",
              "  <style>\n",
              "    pre {\n",
              "        white-space: pre-wrap;\n",
              "    }\n",
              "  </style>\n",
              "  "
            ]
          },
          "metadata": {}
        },
        {
          "output_type": "stream",
          "name": "stdout",
          "text": [
            "- **Case Law Name**\n",
            "  - KOZŁOWSKI\n",
            "\n",
            "- **Ground of Refusal Article**\n",
            "  - Article 4(6) of Council Framework Decision 2002/584/JHA\n",
            "\n",
            "- **Ground of Refusal Conditions**\n",
            "  - The requested person is staying in, or is a national or a resident of, the executing Member State.\n",
            "  - The executing Member State undertakes to execute the sentence or detention order in accordance with its domestic law.\n",
            "\n",
            "- **Explanation of the Elements**\n",
            "  - **Staying**: The term \"staying\" refers to a situation where the requested person, following a stable period of presence in the executing Member State, has acquired connections with that State which are of a similar degree to those resulting from residence. This includes an overall assessment of various objective factors such as the length, nature, and conditions of the person's presence, as well as their family and economic connections with the executing Member State.\n",
            "  - **Resident**: A person is considered a \"resident\" in the executing Member State when they have established their actual place of residence there.\n",
            "  - **National**: The requested person is a national of the executing Member State.\n",
            "  - **Execution of Sentence**: The executing Member State must undertake to execute the sentence or detention order in accordance with its domestic law.\n",
            "\n",
            "- **Case Law Influences**\n",
            "  - **Overall Assessment**: The executing judicial authority must make an overall assessment of various objective factors characterizing the situation of the requested person, including the length, nature, and conditions of their presence, and the family and economic connections they have with the executing Member State.\n",
            "  - **Non-Interruption and Compliance**: The fact that the requested person’s stay in the executing Member State was not uninterrupted and did not comply with the national legislation on residence of foreign nationals can be relevant but not conclusive factors in determining whether the person is \"staying\" in the executing Member State.\n",
            "  - **Criminal Activity and Detention**: The fact that the requested person systematically commits crimes in the executing Member State or is in detention there serving a custodial sentence is not relevant for determining whether they are \"staying\" in the executing Member State but may be relevant for assessing whether there are grounds for not implementing a European arrest warrant.\n"
          ]
        }
      ]
    },
    {
      "cell_type": "code",
      "source": [
        "article4_6 = \"\"\"\n",
        "  % if the European arrest warrant has been issued for the purposes of execution of a custodial sentence or detention order,\n",
        "  eaw_execution_purpose(PersonId, ExecutingMemberState):-\n",
        "      executing_proceeding(ExecutingMemberState, PersonId, execution_custodial_sentence)\n",
        "      ; executing_proceeding(ExecutingMemberState, PersonId, execution_detention_order).\n",
        "\n",
        "  % where the requested person is staying in, or is a national or a resident of the executing Member State\n",
        "  person_in_executing_state(PersonId, ExecutingMemberState):-\n",
        "      person_staying_in(PersonId, ExecutingMemberState)\n",
        "      ; person_nationality(PersonId, ExecutingMemberState)\n",
        "      ; person_residence(PersonId, ExecutingMemberState).\n",
        "\n",
        "  % and that State undertakes to execute the sentence or detention order in accordance with its domestic law\n",
        "  state_undertakes_execution(ExecutingMemberState, Offence):-\n",
        "      executing_proceeding_status(Offence, ExecutingMemberState, execution_undertaken).\n",
        "\n",
        "  % optional refusal of the European arrest warrant\n",
        "  optional_refusal(article4_6, ExecutingMemberState, europeanArrestWarrant):-\n",
        "      eaw_execution_purpose(PersonId, ExecutingMemberState),\n",
        "      person_in_executing_state(PersonId, ExecutingMemberState),\n",
        "      state_undertakes_execution(ExecutingMemberState, Offence).\n",
        "\"\"\"\n",
        "\n",
        "summary_portion = \"\"\"\n",
        "- **Case Law Influences**\n",
        "  - **Overall Assessment**: The executing judicial authority must make an overall assessment of various objective factors characterizing the situation of the requested person, including the length, nature, and conditions of their presence, and the family and economic connections they have with the executing Member State.\n",
        "  - **Non-Interruption and Compliance**: The fact that the requested person’s stay in the executing Member State was not uninterrupted and did not comply with the national legislation on residence of foreign nationals can be relevant but not conclusive factors in determining whether the person is \"staying\" in the executing Member State.\n",
        "  - **Criminal Activity and Detention**: The fact that the requested person systematically commits crimes in the executing Member State or is in detention there serving a custodial sentence is not relevant for determining whether they are \"staying\" in the executing Member State but may be relevant for assessing whether there are grounds for not implementing a European arrest warrant.\n",
        "\"\"\"\n",
        "\n",
        "rules = case_law_rules(summary_portion, case_example, article4_6)\n",
        "print(rules)"
      ],
      "metadata": {
        "colab": {
          "base_uri": "https://localhost:8080/",
          "height": 711
        },
        "id": "79ofarlZ2PQu",
        "outputId": "e4fd45d0-0fef-438a-9e31-bc145b8c506d"
      },
      "execution_count": null,
      "outputs": [
        {
          "output_type": "display_data",
          "data": {
            "text/plain": [
              "<IPython.core.display.HTML object>"
            ],
            "text/html": [
              "\n",
              "  <style>\n",
              "    pre {\n",
              "        white-space: pre-wrap;\n",
              "    }\n",
              "  </style>\n",
              "  "
            ]
          },
          "metadata": {}
        },
        {
          "output_type": "stream",
          "name": "stdout",
          "text": [
            "### Article Applied\n",
            "Article 4(6) of the European Arrest Warrant Framework Decision\n",
            "\n",
            "### New Prolog Rule\n",
            "```prolog\n",
            "%%% Case Law Name\n",
            "case_law(article4_6, CaseLawName):-\n",
            "    overall_assessment(PersonId, ExecutingMemberState),\n",
            "    non_interruption_and_compliance(PersonId, ExecutingMemberState).\n",
            "\n",
            "%%% Prolog Article\n",
            "case_law_refusal(article4_6, CaseLawName, europeanArrestWarrant):-\n",
            "    optional_refusal(article4_6, ExecutingMemberState, europeanArrestWarrant),\n",
            "    case_law(article4_6, CaseLawName).\n",
            "\n",
            "% overall_assessment(PersonId, ExecutingMemberState) - overall assessment of the requested person's situation\n",
            "overall_assessment(PersonId, ExecutingMemberState):-\n",
            "    person_presence(PersonId, ExecutingMemberState, Length, Nature, Conditions),\n",
            "    family_connections(PersonId, ExecutingMemberState),\n",
            "    economic_connections(PersonId, ExecutingMemberState).\n",
            "\n",
            "% non_interruption_and_compliance(PersonId, ExecutingMemberState) - assessment of the continuity and legality of the person's stay\n",
            "non_interruption_and_compliance(PersonId, ExecutingMemberState):-\n",
            "    uninterrupted_stay(PersonId, ExecutingMemberState),\n",
            "    compliance_with_residence_legislation(PersonId, ExecutingMemberState).\n",
            "```\n",
            "\n",
            "### Explanation of the Conditions\n",
            "1. **Overall Assessment**:\n",
            "   - **Person Presence**: The executing judicial authority must evaluate the length, nature, and conditions of the requested person's presence in the executing Member State.\n",
            "   - **Family Connections**: The authority must consider the family ties the person has within the executing Member State.\n",
            "   - **Economic Connections**: The authority must also take into account the economic ties the person has within the executing Member State.\n",
            "\n",
            "2. **Non-Interruption and Compliance**:\n",
            "   - **Uninterrupted Stay**: The authority should assess whether the person's stay in the executing Member State has been continuous.\n",
            "   - **Compliance with Residence Legislation**: The authority should also consider whether the person has complied with the national legislation on the residence of foreign nationals.\n",
            "\n",
            "These conditions ensure that the executing Member State makes a comprehensive and fair assessment of the requested person's situation before deciding on the refusal to execute a European arrest warrant.\n"
          ]
        }
      ]
    }
  ],
  "metadata": {
    "colab": {
      "collapsed_sections": [
        "vY2S3HsopwtC",
        "yCPEzNyxpHd1",
        "rBX9Z5NLpmyl",
        "UWPoYhVCpsZl",
        "GnJXtoOEtEv3",
        "oHY3h50jAiWA"
      ],
      "provenance": []
    },
    "kernelspec": {
      "display_name": "Python 3",
      "name": "python3"
    },
    "language_info": {
      "name": "python"
    }
  },
  "nbformat": 4,
  "nbformat_minor": 0
}
